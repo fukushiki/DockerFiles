{
 "cells": [
  {
   "cell_type": "markdown",
   "id": "7030c746",
   "metadata": {},
   "source": [
    "# [苦しみながら覚えるPandas入門[Part1]](https://qiita.com/papi_tokei/items/c0bd335c9c30065c7604)\n"
   ]
  },
  {
   "cell_type": "code",
   "execution_count": 1,
   "id": "11798434",
   "metadata": {},
   "outputs": [],
   "source": [
    "import pandas as pd\n",
    "import numpy as np"
   ]
  },
  {
   "cell_type": "markdown",
   "id": "fa0d2d1b",
   "metadata": {},
   "source": [
    "## Series"
   ]
  },
  {
   "cell_type": "markdown",
   "id": "291c0fb9",
   "metadata": {},
   "source": [
    "### Seriesの作成 辞書指定"
   ]
  },
  {
   "cell_type": "code",
   "execution_count": 2,
   "id": "01bf6d9f",
   "metadata": {},
   "outputs": [
    {
     "name": "stdout",
     "output_type": "stream",
     "text": [
      "taro      kyoto\n",
      "jiro      osaka\n",
      "saburo     nara\n",
      "dtype: object\n"
     ]
    }
   ],
   "source": [
    "sr = pd.Series({\n",
    "    'taro':'kyoto',\n",
    "    'jiro':'osaka',\n",
    "    'saburo':'nara'\n",
    "})\n",
    "print(sr.head())"
   ]
  },
  {
   "cell_type": "markdown",
   "id": "5628afb5",
   "metadata": {},
   "source": [
    "### Seriesの作成(配列指定)"
   ]
  },
  {
   "cell_type": "code",
   "execution_count": 3,
   "id": "901787d0",
   "metadata": {},
   "outputs": [
    {
     "name": "stdout",
     "output_type": "stream",
     "text": [
      "taro      kyoto\n",
      "jiro      osaka\n",
      "saburo     nara\n",
      "dtype: object\n"
     ]
    }
   ],
   "source": [
    "sr = pd.Series(\n",
    "    ['kyoto', 'osaka', 'nara'],\n",
    "    index = ['taro', 'jiro', 'saburo']\n",
    ")\n",
    "print(sr.head())"
   ]
  },
  {
   "cell_type": "markdown",
   "id": "5f93c110",
   "metadata": {},
   "source": [
    "## DataFrame"
   ]
  },
  {
   "cell_type": "markdown",
   "id": "943d361b",
   "metadata": {},
   "source": [
    "### DataFrame作成(列)"
   ]
  },
  {
   "cell_type": "code",
   "execution_count": 4,
   "id": "7a0fd898",
   "metadata": {},
   "outputs": [
    {
     "name": "stdout",
     "output_type": "stream",
     "text": [
      "     name address                birth\n",
      "0    taro   kyoto  2020-01-01T12:00:00\n",
      "1    jiro   osaka  2020-02-11T12:00:00\n",
      "2  saburo    nara  2020-03-22T12:00:00\n"
     ]
    }
   ],
   "source": [
    "data = {\n",
    "    'name':['taro', 'jiro', 'saburo'],\n",
    "    'address':['kyoto', 'osaka', 'nara'],\n",
    "    'birth':['2020-01-01T12:00:00', '2020-02-11T12:00:00', '2020-03-22T12:00:00']\n",
    "}\n",
    "df = pd.DataFrame(data = data)\n",
    "print(df.head())"
   ]
  },
  {
   "cell_type": "code",
   "execution_count": 5,
   "id": "beeb86a3",
   "metadata": {},
   "outputs": [
    {
     "name": "stdout",
     "output_type": "stream",
     "text": [
      "                           0                    1                    2\n",
      "name                    taro                 jiro               saburo\n",
      "address                kyoto                osaka                 nara\n",
      "birth    2020-01-01T12:00:00  2020-02-11T12:00:00  2020-03-22T12:00:00\n"
     ]
    }
   ],
   "source": [
    "data = [\n",
    "    ['taro', 'jiro', 'saburo'],\n",
    "    ['kyoto', 'osaka', 'nara'],\n",
    "    ['2020-01-01T12:00:00', '2020-02-11T12:00:00', '2020-03-22T12:00:00']\n",
    "]\n",
    "df = pd.DataFrame(data = data, index = ['name', 'address', 'birth'])\n",
    "print(df.head())"
   ]
  },
  {
   "cell_type": "markdown",
   "id": "5fe888ee",
   "metadata": {},
   "source": [
    "### DataFrame作成(行)"
   ]
  },
  {
   "cell_type": "code",
   "execution_count": 6,
   "id": "beb45ac0",
   "metadata": {},
   "outputs": [
    {
     "name": "stdout",
     "output_type": "stream",
     "text": [
      "     name address                birth\n",
      "0    taro   kyoto  2020-01-01T12:00:00\n",
      "1    jiro   osaka  2020-02-11T12:00:00\n",
      "2  saburo    nara  2020-03-22T12:00:00\n"
     ]
    }
   ],
   "source": [
    "data = [\n",
    "    ['taro', 'kyoto','2020-01-01T12:00:00' ],\n",
    "    ['jiro', 'osaka', '2020-02-11T12:00:00'],\n",
    "    ['saburo', 'nara', '2020-03-22T12:00:00']\n",
    "]\n",
    "df = pd.DataFrame(data = data, columns = ['name', 'address', 'birth'])\n",
    "print(df.head())"
   ]
  },
  {
   "cell_type": "markdown",
   "id": "6f7514d2",
   "metadata": {},
   "source": [
    "### DataFrameから列の抽出"
   ]
  },
  {
   "cell_type": "code",
   "execution_count": 7,
   "id": "d4d85caf",
   "metadata": {},
   "outputs": [
    {
     "name": "stdout",
     "output_type": "stream",
     "text": [
      "   name address                birth\n",
      "a  taro   kyoto  2020-01-01T12:00:00\n",
      "b  jiro   osaka  2020-02-11T12:00:00\n"
     ]
    }
   ],
   "source": [
    "data = [\n",
    "  ['taro', 'kyoto', '2020-01-01T12:00:00'],\n",
    "  ['jiro', 'osaka', '2020-02-11T12:00:00'],\n",
    "  ['saburo', 'nara', '2020-03-22T12:00:00']\n",
    "]\n",
    "df = pd.DataFrame(data = data, index = ['a', 'b', 'c'], columns = ['name', 'address', 'birth'])\n",
    "print(df['a':'b'])"
   ]
  },
  {
   "cell_type": "markdown",
   "id": "08121b6b",
   "metadata": {},
   "source": [
    "### Dataframeの属性\n",
    "T:転置行列  \n",
    "at:  \n",
    "iat  \n",
    "loc  \n",
    "iloc  \n",
    "columns  \n",
    "index  \n",
    "shape  \n",
    "values  "
   ]
  },
  {
   "cell_type": "markdown",
   "id": "41596ff6",
   "metadata": {},
   "source": [
    "### Dataframe.T 転置行列の取得"
   ]
  },
  {
   "cell_type": "code",
   "execution_count": 9,
   "id": "17c5739b",
   "metadata": {},
   "outputs": [
    {
     "name": "stdout",
     "output_type": "stream",
     "text": [
      "                           a                    b                    c\n",
      "name                    taro                 jiro               saburo\n",
      "address                kyoto                osaka                 nara\n",
      "birth    2020-01-01T12:00:00  2020-02-11T12:00:00  2020-03-22T12:00:00\n"
     ]
    }
   ],
   "source": [
    "data = [\n",
    "  ['taro', 'kyoto', '2020-01-01T12:00:00'],\n",
    "  ['jiro', 'osaka', '2020-02-11T12:00:00'],\n",
    "  ['saburo', 'nara', '2020-03-22T12:00:00']\n",
    "]\n",
    "df = pd.DataFrame(data = data, index = ['a', 'b', 'c'], columns = ['name', 'address', 'birth'])\n",
    "print(df.T)"
   ]
  },
  {
   "cell_type": "markdown",
   "id": "09569b9a",
   "metadata": {},
   "source": [
    "### Dataframe.at & Dataframe.iat 単一の値の抽出\n",
    "- at : ラベル指定\n",
    "- iat : 行・列番号指定（0始まり）"
   ]
  },
  {
   "cell_type": "code",
   "execution_count": 10,
   "id": "2b07c283",
   "metadata": {},
   "outputs": [
    {
     "name": "stdout",
     "output_type": "stream",
     "text": [
      "kyoto\n"
     ]
    }
   ],
   "source": [
    "data = [\n",
    "  ['taro', 'kyoto', '2020-01-01T12:00:00'],\n",
    "  ['jiro', 'osaka', '2020-02-11T12:00:00'],\n",
    "  ['saburo', 'nara', '2020-03-22T12:00:00']\n",
    "]\n",
    "df = pd.DataFrame(data = data, index = ['a', 'b', 'c'], columns = ['name', 'address', 'birth'])\n",
    "print(df.at['a','address']) # kyoto"
   ]
  },
  {
   "cell_type": "code",
   "execution_count": 11,
   "id": "3fbb5855",
   "metadata": {},
   "outputs": [
    {
     "name": "stdout",
     "output_type": "stream",
     "text": [
      "2020-02-11T12:00:00\n"
     ]
    }
   ],
   "source": [
    "data = [\n",
    "  ['taro', 'kyoto', '2020-01-01T12:00:00'],\n",
    "  ['jiro', 'osaka', '2020-02-11T12:00:00'],\n",
    "  ['saburo', 'nara', '2020-03-22T12:00:00']\n",
    "]\n",
    "df = pd.DataFrame(data = data, index = ['a', 'b', 'c'], columns = ['name', 'address', 'birth'])\n",
    "print(df.iat[1,2]) #2020-02-11T12:00:00"
   ]
  },
  {
   "cell_type": "markdown",
   "id": "7bbed989",
   "metadata": {},
   "source": [
    "### Dataframe.loc & Dataframe.iloc\n",
    "- loc:[[行ラベル], [列ラベル]]\n",
    "- iloc:[行ラベルA:行ラベルB, 列ラベルA:列ラベルB]"
   ]
  },
  {
   "cell_type": "code",
   "execution_count": 15,
   "id": "472eebce",
   "metadata": {},
   "outputs": [
    {
     "name": "stdout",
     "output_type": "stream",
     "text": [
      "   name address                birth\n",
      "a  taro   kyoto  2020-01-01T12:00:00\n",
      "=========================================\n",
      "   name address                birth\n",
      "a  taro   kyoto  2020-01-01T12:00:00\n",
      "b  jiro   osaka  2020-02-11T12:00:00\n",
      "=========================================\n",
      "     name\n",
      "a    taro\n",
      "b    jiro\n",
      "c  saburo\n",
      "=========================================\n",
      "     name address\n",
      "a    taro   kyoto\n",
      "b    jiro   osaka\n",
      "c  saburo    nara\n",
      "=========================================\n",
      "     name                birth\n",
      "a    taro  2020-01-01T12:00:00\n",
      "c  saburo  2020-03-22T12:00:00\n",
      "     name                birth\n",
      "a    taro  2020-01-01T12:00:00\n",
      "b    jiro  2020-02-11T12:00:00\n",
      "c  saburo  2020-03-22T12:00:00\n"
     ]
    },
    {
     "data": {
      "text/html": [
       "<div>\n",
       "<style scoped>\n",
       "    .dataframe tbody tr th:only-of-type {\n",
       "        vertical-align: middle;\n",
       "    }\n",
       "\n",
       "    .dataframe tbody tr th {\n",
       "        vertical-align: top;\n",
       "    }\n",
       "\n",
       "    .dataframe thead th {\n",
       "        text-align: right;\n",
       "    }\n",
       "</style>\n",
       "<table border=\"1\" class=\"dataframe\">\n",
       "  <thead>\n",
       "    <tr style=\"text-align: right;\">\n",
       "      <th></th>\n",
       "      <th>name</th>\n",
       "      <th>birth</th>\n",
       "    </tr>\n",
       "  </thead>\n",
       "  <tbody>\n",
       "    <tr>\n",
       "      <th>a</th>\n",
       "      <td>taro</td>\n",
       "      <td>2020-01-01T12:00:00</td>\n",
       "    </tr>\n",
       "    <tr>\n",
       "      <th>b</th>\n",
       "      <td>jiro</td>\n",
       "      <td>2020-02-11T12:00:00</td>\n",
       "    </tr>\n",
       "    <tr>\n",
       "      <th>c</th>\n",
       "      <td>saburo</td>\n",
       "      <td>2020-03-22T12:00:00</td>\n",
       "    </tr>\n",
       "  </tbody>\n",
       "</table>\n",
       "</div>"
      ],
      "text/plain": [
       "     name                birth\n",
       "a    taro  2020-01-01T12:00:00\n",
       "b    jiro  2020-02-11T12:00:00\n",
       "c  saburo  2020-03-22T12:00:00"
      ]
     },
     "metadata": {},
     "output_type": "display_data"
    }
   ],
   "source": [
    "data = [\n",
    "  ['taro', 'kyoto', '2020-01-01T12:00:00'],\n",
    "  ['jiro', 'osaka', '2020-02-11T12:00:00'],\n",
    "  ['saburo', 'nara', '2020-03-22T12:00:00']\n",
    "]\n",
    "df = pd.DataFrame(data = data, index = ['a', 'b', 'c'], columns = ['name', 'address', 'birth'])\n",
    "# 単一行の抽出\n",
    "print(df.loc[['a']])\n",
    "\n",
    "print(\"=========================================\")\n",
    "# 複数行の抽出\n",
    "print(df.loc[['a', 'b']])\n",
    "\n",
    "print(\"=========================================\")\n",
    "# 単一列の抽出\n",
    "print(df.loc[:, ['name']])\n",
    "\n",
    "print(\"=========================================\")\n",
    "# 複数列の抽出\n",
    "print(df.loc[:, ['name', 'address']])\n",
    "\n",
    "print(\"=========================================\")\n",
    "# 行と列の組み合わせ抽出\n",
    "print(df.loc[['a', 'c'], ['name', 'birth']])\n",
    "print(df.loc['a':'c', ['name', 'birth']])\n",
    "\n",
    "display(df.loc['a':'c', ['name', 'birth']])"
   ]
  },
  {
   "cell_type": "code",
   "execution_count": 13,
   "id": "7de3b932",
   "metadata": {},
   "outputs": [
    {
     "name": "stdout",
     "output_type": "stream",
     "text": [
      "<class 'pandas.core.series.Series'>\n",
      "<class 'pandas.core.frame.DataFrame'>\n",
      "<class 'pandas.core.series.Series'>\n"
     ]
    }
   ],
   "source": [
    "data = [\n",
    "  ['taro', 'kyoto', '2020-01-01T12:00:00'],\n",
    "  ['jiro', 'osaka', '2020-02-11T12:00:00'],\n",
    "  ['saburo', 'nara', '2020-03-22T12:00:00']\n",
    "]\n",
    "df = pd.DataFrame(data = data, index = ['a', 'b', 'c'], columns = ['name', 'address', 'birth'])\n",
    "# 単一行の抽出\n",
    "df.loc[['a']]\n",
    "type(df.loc[['a']]) # pandas.core.frame.DataFrame\n",
    "\n",
    "# 単一行の抽出\n",
    "df.loc['a']\n",
    "print(type(df.loc['a'])) # pandas.core.series.Series\n",
    "\n",
    "# 単一列の抽出\n",
    "df.loc[:, ['name']]\n",
    "print(type(df.loc[:, ['name']])) # pandas.core.frame.DataFrame\n",
    "\n",
    "# 単一列の抽出\n",
    "df.loc[:, 'name']\n",
    "print(type(df.loc[:, 'name'])) # pandas.core.series.Series"
   ]
  },
  {
   "cell_type": "code",
   "execution_count": null,
   "id": "dde28d09",
   "metadata": {},
   "outputs": [],
   "source": []
  }
 ],
 "metadata": {
  "kernelspec": {
   "display_name": "Python 3",
   "language": "python",
   "name": "python3"
  },
  "language_info": {
   "codemirror_mode": {
    "name": "ipython",
    "version": 3
   },
   "file_extension": ".py",
   "mimetype": "text/x-python",
   "name": "python",
   "nbconvert_exporter": "python",
   "pygments_lexer": "ipython3",
   "version": "3.6.9"
  }
 },
 "nbformat": 4,
 "nbformat_minor": 5
}
