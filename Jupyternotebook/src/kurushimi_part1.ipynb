{
 "cells": [
  {
   "cell_type": "markdown",
   "id": "c7050922",
   "metadata": {},
   "source": [
    "# [苦しみながら覚えるPandas入門[Part1]](https://qiita.com/papi_tokei/items/c0bd335c9c30065c7604)\n"
   ]
  },
  {
   "cell_type": "code",
   "execution_count": 1,
   "id": "cefa8610",
   "metadata": {},
   "outputs": [],
   "source": [
    "import pandas as pd\n",
    "import numpy as np"
   ]
  },
  {
   "cell_type": "markdown",
   "id": "9bde6f83",
   "metadata": {},
   "source": [
    "## Series"
   ]
  },
  {
   "cell_type": "markdown",
   "id": "9e455b36",
   "metadata": {},
   "source": [
    "### Seriesの作成 辞書指定"
   ]
  },
  {
   "cell_type": "code",
   "execution_count": 2,
   "id": "eb9c9167",
   "metadata": {},
   "outputs": [
    {
     "name": "stdout",
     "output_type": "stream",
     "text": [
      "taro      kyoto\n",
      "jiro      osaka\n",
      "saburo     nara\n",
      "dtype: object\n"
     ]
    }
   ],
   "source": [
    "sr = pd.Series({\n",
    "    'taro':'kyoto',\n",
    "    'jiro':'osaka',\n",
    "    'saburo':'nara'\n",
    "})\n",
    "print(sr.head())"
   ]
  },
  {
   "cell_type": "markdown",
   "id": "b63666ab",
   "metadata": {},
   "source": [
    "### Seriesの作成(配列指定)"
   ]
  },
  {
   "cell_type": "code",
   "execution_count": 3,
   "id": "235db2ab",
   "metadata": {},
   "outputs": [
    {
     "name": "stdout",
     "output_type": "stream",
     "text": [
      "taro      kyoto\n",
      "jiro      osaka\n",
      "saburo     nara\n",
      "dtype: object\n"
     ]
    }
   ],
   "source": [
    "sr = pd.Series(\n",
    "    ['kyoto', 'osaka', 'nara'],\n",
    "    index = ['taro', 'jiro', 'saburo']\n",
    ")\n",
    "print(sr.head())"
   ]
  },
  {
   "cell_type": "markdown",
   "id": "716c7210",
   "metadata": {},
   "source": [
    "## DataFrame"
   ]
  },
  {
   "cell_type": "code",
   "execution_count": 4,
   "id": "cabed6e5",
   "metadata": {},
   "outputs": [
    {
     "name": "stdout",
     "output_type": "stream",
     "text": [
      "     name address                birth\n",
      "0    taro   kyoto  2020-01-01T12:00:00\n",
      "1    jiro   osaka  2020-02-11T12:00:00\n",
      "2  saburo    nara  2020-03-22T12:00:00\n"
     ]
    }
   ],
   "source": [
    "data = {\n",
    "    'name':['taro', 'jiro', 'saburo'],\n",
    "    'address':['kyoto', 'osaka', 'nara'],\n",
    "    'birth':['2020-01-01T12:00:00', '2020-02-11T12:00:00', '2020-03-22T12:00:00']\n",
    "}\n",
    "df = pd.DataFrame(data = data)\n",
    "print(df.head())"
   ]
  },
  {
   "cell_type": "code",
   "execution_count": null,
   "id": "0988beb6",
   "metadata": {},
   "outputs": [],
   "source": []
  }
 ],
 "metadata": {
  "kernelspec": {
   "display_name": "Python 3",
   "language": "python",
   "name": "python3"
  },
  "language_info": {
   "codemirror_mode": {
    "name": "ipython",
    "version": 3
   },
   "file_extension": ".py",
   "mimetype": "text/x-python",
   "name": "python",
   "nbconvert_exporter": "python",
   "pygments_lexer": "ipython3",
   "version": "3.6.9"
  }
 },
 "nbformat": 4,
 "nbformat_minor": 5
}
